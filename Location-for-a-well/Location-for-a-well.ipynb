{
 "cells": [
  {
   "cell_type": "markdown",
   "metadata": {},
   "source": [
    "# Description of the project"
   ]
  },
  {
   "cell_type": "markdown",
   "metadata": {},
   "source": [
    "Let's say you work for the mining company GlavRosGosNeft. We need to decide where to drill a new well.\n",
    "\n",
    "I was provided with oil samples in three regions: in each of 10,000 fields, where they measured the quality of oil and the volume of its reserves. Build a machine learning model to help determine the region where mining will bring the most profit. It is necessary to analyze the possible profit and risks using the *Bootstrap.* technique\n",
    "\n",
    "Steps to choose a location:\n",
    "\n",
    "- In the selected region, they are looking for deposits, for each, the values ​​of the signs are determined;\n",
    "- Build a model and estimate the volume of reserves;\n",
    "- Select the deposits with the highest value estimates. The number of fields depends on the company's budget and the cost of developing one well;\n",
    "- The profit is equal to the total profit of the selected deposits."
   ]
  },
  {
   "cell_type": "markdown",
   "metadata": {},
   "source": [
    "# 1. Loading and preparing data"
   ]
  },
  {
   "cell_type": "code",
   "execution_count": 1,
   "metadata": {},
   "outputs": [],
   "source": [
    "import pandas as pd\n",
    "import numpy as np\n",
    "from sklearn.preprocessing import OrdinalEncoder \n",
    "from sklearn.model_selection import train_test_split\n",
    "from sklearn.linear_model import LinearRegression\n",
    "from sklearn.metrics import mean_squared_error\n",
    "from sklearn.metrics import r2_score"
   ]
  },
  {
   "cell_type": "code",
   "execution_count": 2,
   "metadata": {},
   "outputs": [
    {
     "name": "stdout",
     "output_type": "stream",
     "text": [
      "id          object\n",
      "f0         float64\n",
      "f1         float64\n",
      "f2         float64\n",
      "product    float64\n",
      "dtype: object\n",
      "id          object\n",
      "f0         float64\n",
      "f1         float64\n",
      "f2         float64\n",
      "product    float64\n",
      "dtype: object\n",
      "id          object\n",
      "f0         float64\n",
      "f1         float64\n",
      "f2         float64\n",
      "product    float64\n",
      "dtype: object\n"
     ]
    },
    {
     "data": {
      "text/html": [
       "<div>\n",
       "<style scoped>\n",
       "    .dataframe tbody tr th:only-of-type {\n",
       "        vertical-align: middle;\n",
       "    }\n",
       "\n",
       "    .dataframe tbody tr th {\n",
       "        vertical-align: top;\n",
       "    }\n",
       "\n",
       "    .dataframe thead th {\n",
       "        text-align: right;\n",
       "    }\n",
       "</style>\n",
       "<table border=\"1\" class=\"dataframe\">\n",
       "  <thead>\n",
       "    <tr style=\"text-align: right;\">\n",
       "      <th></th>\n",
       "      <th>id</th>\n",
       "      <th>f0</th>\n",
       "      <th>f1</th>\n",
       "      <th>f2</th>\n",
       "      <th>product</th>\n",
       "    </tr>\n",
       "  </thead>\n",
       "  <tbody>\n",
       "    <tr>\n",
       "      <th>0</th>\n",
       "      <td>txEyH</td>\n",
       "      <td>0.705745</td>\n",
       "      <td>-0.497823</td>\n",
       "      <td>1.221170</td>\n",
       "      <td>105.280062</td>\n",
       "    </tr>\n",
       "    <tr>\n",
       "      <th>1</th>\n",
       "      <td>2acmU</td>\n",
       "      <td>1.334711</td>\n",
       "      <td>-0.340164</td>\n",
       "      <td>4.365080</td>\n",
       "      <td>73.037750</td>\n",
       "    </tr>\n",
       "    <tr>\n",
       "      <th>2</th>\n",
       "      <td>409Wp</td>\n",
       "      <td>1.022732</td>\n",
       "      <td>0.151990</td>\n",
       "      <td>1.419926</td>\n",
       "      <td>85.265647</td>\n",
       "    </tr>\n",
       "    <tr>\n",
       "      <th>3</th>\n",
       "      <td>iJLyR</td>\n",
       "      <td>-0.032172</td>\n",
       "      <td>0.139033</td>\n",
       "      <td>2.978566</td>\n",
       "      <td>168.620776</td>\n",
       "    </tr>\n",
       "    <tr>\n",
       "      <th>4</th>\n",
       "      <td>Xdl7t</td>\n",
       "      <td>1.988431</td>\n",
       "      <td>0.155413</td>\n",
       "      <td>4.751769</td>\n",
       "      <td>154.036647</td>\n",
       "    </tr>\n",
       "    <tr>\n",
       "      <th>...</th>\n",
       "      <td>...</td>\n",
       "      <td>...</td>\n",
       "      <td>...</td>\n",
       "      <td>...</td>\n",
       "      <td>...</td>\n",
       "    </tr>\n",
       "    <tr>\n",
       "      <th>99995</th>\n",
       "      <td>DLsed</td>\n",
       "      <td>0.971957</td>\n",
       "      <td>0.370953</td>\n",
       "      <td>6.075346</td>\n",
       "      <td>110.744026</td>\n",
       "    </tr>\n",
       "    <tr>\n",
       "      <th>99996</th>\n",
       "      <td>QKivN</td>\n",
       "      <td>1.392429</td>\n",
       "      <td>-0.382606</td>\n",
       "      <td>1.273912</td>\n",
       "      <td>122.346843</td>\n",
       "    </tr>\n",
       "    <tr>\n",
       "      <th>99997</th>\n",
       "      <td>3rnvd</td>\n",
       "      <td>1.029585</td>\n",
       "      <td>0.018787</td>\n",
       "      <td>-1.348308</td>\n",
       "      <td>64.375443</td>\n",
       "    </tr>\n",
       "    <tr>\n",
       "      <th>99998</th>\n",
       "      <td>7kl59</td>\n",
       "      <td>0.998163</td>\n",
       "      <td>-0.528582</td>\n",
       "      <td>1.583869</td>\n",
       "      <td>74.040764</td>\n",
       "    </tr>\n",
       "    <tr>\n",
       "      <th>99999</th>\n",
       "      <td>1CWhH</td>\n",
       "      <td>1.764754</td>\n",
       "      <td>-0.266417</td>\n",
       "      <td>5.722849</td>\n",
       "      <td>149.633246</td>\n",
       "    </tr>\n",
       "  </tbody>\n",
       "</table>\n",
       "<p>100000 rows × 5 columns</p>\n",
       "</div>"
      ],
      "text/plain": [
       "          id        f0        f1        f2     product\n",
       "0      txEyH  0.705745 -0.497823  1.221170  105.280062\n",
       "1      2acmU  1.334711 -0.340164  4.365080   73.037750\n",
       "2      409Wp  1.022732  0.151990  1.419926   85.265647\n",
       "3      iJLyR -0.032172  0.139033  2.978566  168.620776\n",
       "4      Xdl7t  1.988431  0.155413  4.751769  154.036647\n",
       "...      ...       ...       ...       ...         ...\n",
       "99995  DLsed  0.971957  0.370953  6.075346  110.744026\n",
       "99996  QKivN  1.392429 -0.382606  1.273912  122.346843\n",
       "99997  3rnvd  1.029585  0.018787 -1.348308   64.375443\n",
       "99998  7kl59  0.998163 -0.528582  1.583869   74.040764\n",
       "99999  1CWhH  1.764754 -0.266417  5.722849  149.633246\n",
       "\n",
       "[100000 rows x 5 columns]"
      ]
     },
     "execution_count": 2,
     "metadata": {},
     "output_type": "execute_result"
    }
   ],
   "source": [
    "data_0 = pd.read_csv('/datasets/geo_data_0.csv')\n",
    "data_1 = pd.read_csv('/datasets/geo_data_1.csv')\n",
    "data_2 = pd.read_csv('/datasets/geo_data_2.csv')\n",
    "print(data_0.dtypes)\n",
    "print(data_1.dtypes)\n",
    "print(data_2.dtypes)\n",
    "data_0"
   ]
  },
  {
   "cell_type": "markdown",
   "metadata": {},
   "source": [
    "***There are no errors in the data***"
   ]
  },
  {
   "cell_type": "markdown",
   "metadata": {},
   "source": [
    "# 2. Train and validate the model"
   ]
  },
  {
   "cell_type": "code",
   "execution_count": 3,
   "metadata": {},
   "outputs": [
    {
     "name": "stdout",
     "output_type": "stream",
     "text": [
      "MSE= 1412.2129364399243\n",
      "RMSE = 37.5794217150813\n",
      "\n",
      "Mean\n",
      "MSE= 1961.5678757223516\n",
      "RMSE = 44.289591053907365\n",
      "\n",
      "R2 = 0.27994321524487786\n"
     ]
    }
   ],
   "source": [
    "target_0 = data_0['product']\n",
    "features_0 = data_0.drop(['product', 'id'], axis=1)\n",
    "\n",
    "# samples in a ratio of 75:25\n",
    "features_train_0, features_valid_0, target_train_0, target_valid_0 = train_test_split(\n",
    "    features_0, target_0, test_size=0.25, random_state=12345)\n",
    "\n",
    "# Model training and predictions on the validation set.\n",
    "model_0 = LinearRegression()\n",
    "model_0.fit(features_train_0, target_train_0)\n",
    "predicted_valid_0 = model_0.predict(features_valid_0)\n",
    "mse_0 = mean_squared_error(target_valid_0, predicted_valid_0) # MSE\n",
    "\n",
    "print(\"MSE=\", mse_0)\n",
    "print(\"RMSE =\", mse_0 ** 0.5)\n",
    "\n",
    "predicted_valid_mean_0 = pd.Series(target_train_0.mean(), index=target_valid_0.index) # constant model: for each object it predicts the 'mean value of the target feature'\n",
    "mse_mean_0 = mean_squared_error(target_valid_0, predicted_valid_mean_0)\n",
    "\n",
    "print(\"\\nMean\")\n",
    "print(\"MSE=\", mse_mean_0)\n",
    "print(\"RMSE =\", mse_mean_0 ** 0.5)\n",
    "\n",
    "print(\"\\nR2 =\", r2_score(target_valid_0, predicted_valid_0))"
   ]
  },
  {
   "cell_type": "code",
   "execution_count": 4,
   "metadata": {},
   "outputs": [
    {
     "name": "stdout",
     "output_type": "stream",
     "text": [
      "MSE= 0.7976263360391157\n",
      "RMSE = 0.893099286775617\n",
      "\n",
      "Mean\n",
      "MSE= 2117.9734309299147\n",
      "RMSE = 46.02144533725462\n",
      "\n",
      "R2 = 0.9996233978805127\n"
     ]
    }
   ],
   "source": [
    "target_1 = data_1['product']\n",
    "features_1 = data_1.drop(['product', 'id'], axis=1)\n",
    "\n",
    "# samples in a ratio of 75:25\n",
    "features_train_1, features_valid_1, target_train_1, target_valid_1 = train_test_split(\n",
    "    features_1, target_1, test_size=0.25, random_state=12345)\n",
    "\n",
    "# Model training and predictions on the validation set.\n",
    "model_1 = LinearRegression()\n",
    "model_1.fit(features_train_1, target_train_1)\n",
    "predicted_valid_1 = model_1.predict(features_valid_1)\n",
    "mse_1 = mean_squared_error(target_valid_1, predicted_valid_1) # MSE\n",
    "\n",
    "print(\"MSE=\", mse_1)\n",
    "print(\"RMSE =\", mse_1 ** 0.5)\n",
    "\n",
    "predicted_valid_mean_1 = pd.Series(target_train_1.mean(), index=target_valid_1.index) # constant model: for each object it predicts the 'mean value of the target feature'\n",
    "mse_mean_1 = mean_squared_error(target_valid_1, predicted_valid_mean_1)\n",
    "\n",
    "print(\"\\nMean\")\n",
    "print(\"MSE=\", mse_mean_1)\n",
    "print(\"RMSE =\", mse_mean_1 ** 0.5)\n",
    "\n",
    "print(\"\\nR2 =\", r2_score(target_valid_1, predicted_valid_1))"
   ]
  },
  {
   "cell_type": "code",
   "execution_count": 5,
   "metadata": {},
   "outputs": [
    {
     "name": "stdout",
     "output_type": "stream",
     "text": [
      "MSE= 1602.3775813236196\n",
      "RMSE = 40.02970873393434\n",
      "\n",
      "Mean\n",
      "MSE= 2016.2210072435087\n",
      "RMSE = 44.90234968510566\n",
      "\n",
      "R2 = 0.20524758386040443\n"
     ]
    }
   ],
   "source": [
    "target_2 = data_2['product']\n",
    "features_2 = data_2.drop(['product', 'id'], axis=1)\n",
    "\n",
    "# samples in a ratio of 75:25\n",
    "features_train_2, features_valid_2, target_train_2, target_valid_2 = train_test_split(\n",
    "    features_2, target_2, test_size=0.25, random_state=12345)\n",
    "\n",
    "# Model training and predictions on the validation set.\n",
    "model_2 = LinearRegression()\n",
    "model_2.fit(features_train_2, target_train_2)\n",
    "predicted_valid_2 = model_2.predict(features_valid_2)\n",
    "mse_2 = mean_squared_error(target_valid_2, predicted_valid_2) # MSE\n",
    "\n",
    "print(\"MSE=\", mse_2)\n",
    "print(\"RMSE =\", mse_2 ** 0.5)\n",
    "\n",
    "predicted_valid_mean_2 = pd.Series(target_train_2.mean(), index=target_valid_2.index) # constant model: for each object it predicts the 'mean value of the target feature'\n",
    "mse_mean_2 = mean_squared_error(target_valid_2, predicted_valid_mean_2)\n",
    "\n",
    "print(\"\\nMean\")\n",
    "print(\"MSE=\", mse_mean_2)\n",
    "print(\"RMSE =\", mse_mean_2 ** 0.5)\n",
    "\n",
    "print(\"\\nR2 =\", r2_score(target_valid_2, predicted_valid_2))"
   ]
  },
  {
   "cell_type": "markdown",
   "metadata": {},
   "source": [
    "***We can conclude that the reserves in the first and third regions are quite large, but in the second they are rather scarce***"
   ]
  },
  {
   "cell_type": "code",
   "execution_count": 6,
   "metadata": {},
   "outputs": [
    {
     "data": {
      "text/plain": [
       "111.11111111111111"
      ]
     },
     "execution_count": 6,
     "metadata": {},
     "output_type": "execute_result"
    }
   ],
   "source": [
    "budget = 10000000000 # budget\n",
    "bar_price = 450000 # barrel price\n",
    "good_holes = 200 # number of wells for this budget\n",
    "holes = 500 # number of holes\n",
    "\n",
    "#sufficient volume of raw materials for break-even development of a new well\n",
    "good_hole_price = (budget / good_holes) / bar_price\n",
    "good_hole_price"
   ]
  },
  {
   "cell_type": "markdown",
   "metadata": {},
   "source": [
    "- budget - budget\n",
    "- bar_price - barrel price\n",
    "- good_holes - number of wells for this budget\n",
    "- holes - number of wells\n",
    "- good_hole_price - sufficient amount of raw materials for break-even development of a new well"
   ]
  },
  {
   "cell_type": "code",
   "execution_count": 7,
   "metadata": {},
   "outputs": [
    {
     "name": "stdout",
     "output_type": "stream",
     "text": [
      "average in 1 region 92.50000000000001\n",
      "mean in region 2 68.82500000000002\n",
      "mean in region 3 95.00000000000004\n"
     ]
    }
   ],
   "source": [
    "print('average in 1 region', data_0['product'].mean())\n",
    "print('mean in region 2', data_1['product'].mean())\n",
    "print('mean in region 3', data_2['product'].mean())"
   ]
  },
  {
   "cell_type": "markdown",
   "metadata": {},
   "source": [
    "***It can be seen here that the first and third regions are identical and exceed the minimum by several times,\n",
    "but in the second region, the reserves are not enough to pay for future mines***\n"
   ]
  },
  {
   "cell_type": "markdown",
   "metadata": {},
   "source": [
    "# 3. Preparing to Calculate Profits"
   ]
  },
  {
   "cell_type": "code",
   "execution_count": 8,
   "metadata": {},
   "outputs": [
    {
     "name": "stdout",
     "output_type": "stream",
     "text": [
      "196771396.9994259\n"
     ]
    }
   ],
   "source": [
    "def revenue(target, probabilities, count):\n",
    "    probs_sorted = probabilities.sort_values(ascending=False)\n",
    "    selected = target[probs_sorted.index][:count]\n",
    "    return bar_price * selected.sum()\n",
    "\n",
    "target = target_valid_0[:500].reset_index(drop=True) \n",
    "probabilities = pd.Series(predicted_valid_0)[:500] \n",
    "\n",
    "res = revenue(target, probabilities, 200)\n",
    "\n",
    "print(res - budget)"
   ]
  },
  {
   "cell_type": "markdown",
   "metadata": {},
   "source": [
    "*It can be concluded that the second region is unprofitable and it is impossible to start development there. The profit will be ***196 771 397*** rubles*"
   ]
  },
  {
   "cell_type": "markdown",
   "metadata": {},
   "source": [
    "# 4. Profit and Risk Calculation"
   ]
  },
  {
   "cell_type": "code",
   "execution_count": 9,
   "metadata": {},
   "outputs": [
    {
     "name": "stdout",
     "output_type": "stream",
     "text": [
      "\n",
      "1 Region\n",
      "\n",
      "Average revenue: 425938526.91059303\n",
      "5%-quantile: -31803114.34611702\n",
      "85%-quantile: 801501278.2033138\n",
      "probability of loss: 0.06\n"
     ]
    }
   ],
   "source": [
    "target = target_valid_0.reset_index(drop=True) \n",
    "probabilities = pd.Series(predicted_valid_0)\n",
    "\n",
    "state = np.random.RandomState(12345)\n",
    " \n",
    "values_0 = []\n",
    "b = 0\n",
    "for i in range(1000): \n",
    "    target_subsample = target.sample(n=500, replace=True, random_state=state) \n",
    "    probs_subsample = probabilities[target_subsample.index]\n",
    " \n",
    "    values_0.append(revenue(target_subsample, probs_subsample, 200))\n",
    "    if revenue(target_subsample, probs_subsample, 200) - budget  < 0:\n",
    "        b += 1\n",
    "        \n",
    "values_0 = pd.Series(values_0)\n",
    "lower = values_0.quantile(0.05)\n",
    "upper = values_0.quantile(0.90)\n",
    " \n",
    "mean = values_0.mean()\n",
    "print('\\n1 Region\\n')\n",
    "print(\"Average revenue:\", mean - budget)\n",
    "print(\"5%-quantile:\", lower - budget)\n",
    "print(\"85%-quantile:\", upper - budget)\n",
    "print('probability of loss:', b/1000)"
   ]
  },
  {
   "cell_type": "markdown",
   "metadata": {},
   "source": [
    "Only the second region is suitable for development\n"
   ]
  },
  {
   "cell_type": "code",
   "execution_count": 10,
   "metadata": {},
   "outputs": [
    {
     "name": "stdout",
     "output_type": "stream",
     "text": [
      "\n",
      "2 Region\n",
      "\n",
      "Average revenue: 515222773.4432907\n",
      "5%-quantile: 150785740.64118004\n",
      "85%-quantile: 798830252.2696915\n",
      "probability of loss: 0.01\n"
     ]
    }
   ],
   "source": [
    "target = target_valid_1.reset_index(drop=True) \n",
    "probabilities = pd.Series(predicted_valid_1)\n",
    "\n",
    "state = np.random.RandomState(12345)\n",
    "g = 0\n",
    "b = 0\n",
    "values_1 = []\n",
    "for i in range(1000): \n",
    "    target_subsample = target.sample(n = 500, replace=True, random_state=state) \n",
    "    probs_subsample = probabilities[target_subsample.index]\n",
    " \n",
    "    values_1.append(revenue(target_subsample, probs_subsample, 200)) \n",
    "    if revenue(target_subsample, probs_subsample, 200) - budget  < 0:\n",
    "        b += 1\n",
    "values_1 = pd.Series(values_1)\n",
    "lower = values_1.quantile(0.05)\n",
    "upper = values_1.quantile(0.90)\n",
    " \n",
    "mean = values_1.mean()\n",
    "print('\\n2 Region\\n')\n",
    "print(\"Average revenue:\", mean - budget)\n",
    "print(\"5%-quantile:\", lower - budget)\n",
    "print(\"85%-quantile:\", upper - budget)\n",
    "print('probability of loss:', b/1000)"
   ]
  },
  {
   "cell_type": "code",
   "execution_count": 11,
   "metadata": {},
   "outputs": [
    {
     "name": "stdout",
     "output_type": "stream",
     "text": [
      "\n",
      "3 Region\n",
      "\n",
      "Average revenue: 435008362.7827568\n",
      "5%-quantile: -43448491.322502136\n",
      "85%-quantile: 784904953.9330616\n",
      "probability of loss: 0.064\n"
     ]
    }
   ],
   "source": [
    "target = target_valid_2.reset_index(drop=True) \n",
    "probabilities = pd.Series(predicted_valid_2)\n",
    "\n",
    "state = np.random.RandomState(12345)\n",
    "g = 0\n",
    "b = 0\n",
    "values_2 = []\n",
    "for i in range(1000): \n",
    "    target_subsample = target.sample(n = 500, replace=True, random_state=state) \n",
    "    probs_subsample = probabilities[target_subsample.index]\n",
    " \n",
    "    values_2.append(revenue(target_subsample, probs_subsample, 200)) \n",
    "    if revenue(target_subsample, probs_subsample, 200) - budget  < 0:\n",
    "        b += 1\n",
    "        \n",
    "values_2 = pd.Series(values_2)\n",
    "lower = values_2.quantile(0.05)\n",
    "upper = values_2.quantile(0.90)\n",
    " \n",
    "mean = values_2.mean()\n",
    "print('\\n3 Region\\n')\n",
    "print(\"Average revenue:\", mean - budget)\n",
    "print(\"5%-quantile:\", lower - budget)\n",
    "print(\"85%-quantile:\", upper - budget)\n",
    "print('probability of loss:', b/1000)"
   ]
  },
  {
   "cell_type": "markdown",
   "metadata": {},
   "source": [
    "### Conclusion:\n",
    "I can say for sure that the best region for development is the second, and the worst is the third. Also, in the second region, I would not start development because the probability of losses is more than 2.5%."
   ]
  },
  {
   "cell_type": "code",
   "execution_count": null,
   "metadata": {},
   "outputs": [],
   "source": []
  }
 ],
 "metadata": {
  "ExecuteTimeLog": [
   {
    "duration": 1001,
    "start_time": "2022-10-05T02:21:15.130Z"
   },
   {
    "duration": 947,
    "start_time": "2022-10-05T02:21:16.133Z"
   },
   {
    "duration": 35,
    "start_time": "2022-10-05T02:21:48.042Z"
   },
   {
    "duration": 34,
    "start_time": "2022-10-05T02:22:03.058Z"
   },
   {
    "duration": 33,
    "start_time": "2022-10-05T02:22:24.574Z"
   },
   {
    "duration": 4,
    "start_time": "2022-10-05T02:22:51.136Z"
   },
   {
    "duration": 7,
    "start_time": "2022-10-05T02:23:11.895Z"
   },
   {
    "duration": 6,
    "start_time": "2022-10-05T02:24:28.534Z"
   },
   {
    "duration": 2145,
    "start_time": "2022-10-05T02:25:36.666Z"
   },
   {
    "duration": 2093,
    "start_time": "2022-10-05T02:25:59.257Z"
   },
   {
    "duration": 2276,
    "start_time": "2022-10-05T02:26:05.975Z"
   },
   {
    "duration": 2152,
    "start_time": "2022-10-05T02:28:38.561Z"
   },
   {
    "duration": 2092,
    "start_time": "2022-10-05T02:28:49.319Z"
   },
   {
    "duration": 2073,
    "start_time": "2022-10-05T02:29:01.383Z"
   },
   {
    "duration": 989,
    "start_time": "2022-10-05T02:29:12.134Z"
   },
   {
    "duration": 378,
    "start_time": "2022-10-05T02:29:13.125Z"
   },
   {
    "duration": 72,
    "start_time": "2022-10-05T02:29:13.505Z"
   },
   {
    "duration": 124,
    "start_time": "2022-10-05T02:29:13.580Z"
   },
   {
    "duration": 202,
    "start_time": "2022-10-05T02:29:13.777Z"
   },
   {
    "duration": 95,
    "start_time": "2022-10-05T02:29:13.985Z"
   },
   {
    "duration": 9,
    "start_time": "2022-10-05T02:29:14.081Z"
   },
   {
    "duration": 8,
    "start_time": "2022-10-05T02:29:14.092Z"
   },
   {
    "duration": 2186,
    "start_time": "2022-10-05T02:29:14.101Z"
   },
   {
    "duration": 2161,
    "start_time": "2022-10-05T02:29:16.290Z"
   },
   {
    "duration": 2093,
    "start_time": "2022-10-05T02:29:18.453Z"
   }
  ],
  "kernelspec": {
   "display_name": "Python 3 (ipykernel)",
   "language": "python",
   "name": "python3"
  },
  "language_info": {
   "codemirror_mode": {
    "name": "ipython",
    "version": 3
   },
   "file_extension": ".py",
   "mimetype": "text/x-python",
   "name": "python",
   "nbconvert_exporter": "python",
   "pygments_lexer": "ipython3",
   "version": "3.9.5"
  },
  "toc": {
   "base_numbering": 1,
   "nav_menu": {},
   "number_sections": true,
   "sideBar": true,
   "skip_h1_title": true,
   "title_cell": "Table of Contents",
   "title_sidebar": "Contents",
   "toc_cell": false,
   "toc_position": {},
   "toc_section_display": true,
   "toc_window_display": false
  }
 },
 "nbformat": 4,
 "nbformat_minor": 2
}
