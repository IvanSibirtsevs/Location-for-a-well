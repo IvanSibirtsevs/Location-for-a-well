{
 "cells": [
  {
   "cell_type": "markdown",
   "metadata": {},
   "source": [
    "# Описание проекта"
   ]
  },
  {
   "cell_type": "markdown",
   "metadata": {},
   "source": [
    "Допустим, вы работаете в добывающей компании «ГлавРосГосНефть». Нужно решить, где бурить новую скважину.\n",
    "\n",
    "Мне предоставлены пробы нефти в трёх регионах: в каждом 10 000 месторождений, где измерили качество нефти и объём её запасов. Постройте модель машинного обучения, которая поможет определить регион, где добыча принесёт наибольшую прибыль. Нужно Проанализировать возможную прибыль и риски техникой *Bootstrap.*\n",
    "\n",
    "Шаги для выбора локации:\n",
    "\n",
    "- В избранном регионе ищут месторождения, для каждого определяют значения признаков;\n",
    "- Строят модель и оценивают объём запасов;\n",
    "- Выбирают месторождения с самым высокими оценками значений. Количество месторождений зависит от бюджета компании и стоимости разработки одной скважины;\n",
    "- Прибыль равна суммарной прибыли отобранных месторождений."
   ]
  },
  {
   "cell_type": "markdown",
   "metadata": {},
   "source": [
    "# 1. Загрузка и подготовка данных"
   ]
  },
  {
   "cell_type": "code",
   "execution_count": 1,
   "metadata": {},
   "outputs": [],
   "source": [
    "import pandas as pd\n",
    "import numpy as np\n",
    "from sklearn.preprocessing import OrdinalEncoder \n",
    "from sklearn.model_selection import train_test_split\n",
    "from sklearn.linear_model import LinearRegression\n",
    "from sklearn.metrics import mean_squared_error\n",
    "from sklearn.metrics import r2_score"
   ]
  },
  {
   "cell_type": "code",
   "execution_count": 2,
   "metadata": {},
   "outputs": [
    {
     "name": "stdout",
     "output_type": "stream",
     "text": [
      "id          object\n",
      "f0         float64\n",
      "f1         float64\n",
      "f2         float64\n",
      "product    float64\n",
      "dtype: object\n",
      "id          object\n",
      "f0         float64\n",
      "f1         float64\n",
      "f2         float64\n",
      "product    float64\n",
      "dtype: object\n",
      "id          object\n",
      "f0         float64\n",
      "f1         float64\n",
      "f2         float64\n",
      "product    float64\n",
      "dtype: object\n"
     ]
    },
    {
     "data": {
      "text/html": [
       "<div>\n",
       "<style scoped>\n",
       "    .dataframe tbody tr th:only-of-type {\n",
       "        vertical-align: middle;\n",
       "    }\n",
       "\n",
       "    .dataframe tbody tr th {\n",
       "        vertical-align: top;\n",
       "    }\n",
       "\n",
       "    .dataframe thead th {\n",
       "        text-align: right;\n",
       "    }\n",
       "</style>\n",
       "<table border=\"1\" class=\"dataframe\">\n",
       "  <thead>\n",
       "    <tr style=\"text-align: right;\">\n",
       "      <th></th>\n",
       "      <th>id</th>\n",
       "      <th>f0</th>\n",
       "      <th>f1</th>\n",
       "      <th>f2</th>\n",
       "      <th>product</th>\n",
       "    </tr>\n",
       "  </thead>\n",
       "  <tbody>\n",
       "    <tr>\n",
       "      <td>0</td>\n",
       "      <td>txEyH</td>\n",
       "      <td>0.705745</td>\n",
       "      <td>-0.497823</td>\n",
       "      <td>1.221170</td>\n",
       "      <td>105.280062</td>\n",
       "    </tr>\n",
       "    <tr>\n",
       "      <td>1</td>\n",
       "      <td>2acmU</td>\n",
       "      <td>1.334711</td>\n",
       "      <td>-0.340164</td>\n",
       "      <td>4.365080</td>\n",
       "      <td>73.037750</td>\n",
       "    </tr>\n",
       "    <tr>\n",
       "      <td>2</td>\n",
       "      <td>409Wp</td>\n",
       "      <td>1.022732</td>\n",
       "      <td>0.151990</td>\n",
       "      <td>1.419926</td>\n",
       "      <td>85.265647</td>\n",
       "    </tr>\n",
       "    <tr>\n",
       "      <td>3</td>\n",
       "      <td>iJLyR</td>\n",
       "      <td>-0.032172</td>\n",
       "      <td>0.139033</td>\n",
       "      <td>2.978566</td>\n",
       "      <td>168.620776</td>\n",
       "    </tr>\n",
       "    <tr>\n",
       "      <td>4</td>\n",
       "      <td>Xdl7t</td>\n",
       "      <td>1.988431</td>\n",
       "      <td>0.155413</td>\n",
       "      <td>4.751769</td>\n",
       "      <td>154.036647</td>\n",
       "    </tr>\n",
       "    <tr>\n",
       "      <td>...</td>\n",
       "      <td>...</td>\n",
       "      <td>...</td>\n",
       "      <td>...</td>\n",
       "      <td>...</td>\n",
       "      <td>...</td>\n",
       "    </tr>\n",
       "    <tr>\n",
       "      <td>99995</td>\n",
       "      <td>DLsed</td>\n",
       "      <td>0.971957</td>\n",
       "      <td>0.370953</td>\n",
       "      <td>6.075346</td>\n",
       "      <td>110.744026</td>\n",
       "    </tr>\n",
       "    <tr>\n",
       "      <td>99996</td>\n",
       "      <td>QKivN</td>\n",
       "      <td>1.392429</td>\n",
       "      <td>-0.382606</td>\n",
       "      <td>1.273912</td>\n",
       "      <td>122.346843</td>\n",
       "    </tr>\n",
       "    <tr>\n",
       "      <td>99997</td>\n",
       "      <td>3rnvd</td>\n",
       "      <td>1.029585</td>\n",
       "      <td>0.018787</td>\n",
       "      <td>-1.348308</td>\n",
       "      <td>64.375443</td>\n",
       "    </tr>\n",
       "    <tr>\n",
       "      <td>99998</td>\n",
       "      <td>7kl59</td>\n",
       "      <td>0.998163</td>\n",
       "      <td>-0.528582</td>\n",
       "      <td>1.583869</td>\n",
       "      <td>74.040764</td>\n",
       "    </tr>\n",
       "    <tr>\n",
       "      <td>99999</td>\n",
       "      <td>1CWhH</td>\n",
       "      <td>1.764754</td>\n",
       "      <td>-0.266417</td>\n",
       "      <td>5.722849</td>\n",
       "      <td>149.633246</td>\n",
       "    </tr>\n",
       "  </tbody>\n",
       "</table>\n",
       "<p>100000 rows × 5 columns</p>\n",
       "</div>"
      ],
      "text/plain": [
       "          id        f0        f1        f2     product\n",
       "0      txEyH  0.705745 -0.497823  1.221170  105.280062\n",
       "1      2acmU  1.334711 -0.340164  4.365080   73.037750\n",
       "2      409Wp  1.022732  0.151990  1.419926   85.265647\n",
       "3      iJLyR -0.032172  0.139033  2.978566  168.620776\n",
       "4      Xdl7t  1.988431  0.155413  4.751769  154.036647\n",
       "...      ...       ...       ...       ...         ...\n",
       "99995  DLsed  0.971957  0.370953  6.075346  110.744026\n",
       "99996  QKivN  1.392429 -0.382606  1.273912  122.346843\n",
       "99997  3rnvd  1.029585  0.018787 -1.348308   64.375443\n",
       "99998  7kl59  0.998163 -0.528582  1.583869   74.040764\n",
       "99999  1CWhH  1.764754 -0.266417  5.722849  149.633246\n",
       "\n",
       "[100000 rows x 5 columns]"
      ]
     },
     "execution_count": 2,
     "metadata": {},
     "output_type": "execute_result"
    }
   ],
   "source": [
    "data_0 = pd.read_csv('/datasets/geo_data_0.csv')\n",
    "data_1 = pd.read_csv('/datasets/geo_data_1.csv')\n",
    "data_2 = pd.read_csv('/datasets/geo_data_2.csv')\n",
    "print(data_0.dtypes)\n",
    "print(data_1.dtypes)\n",
    "print(data_2.dtypes)\n",
    "data_0"
   ]
  },
  {
   "cell_type": "markdown",
   "metadata": {},
   "source": [
    "***В данных нет ошибок***  "
   ]
  },
  {
   "cell_type": "markdown",
   "metadata": {},
   "source": [
    "# 2. Обучение и проверка модели"
   ]
  },
  {
   "cell_type": "code",
   "execution_count": 3,
   "metadata": {},
   "outputs": [
    {
     "name": "stdout",
     "output_type": "stream",
     "text": [
      "MSE = 1412.2129364399243\n",
      "RMSE = 37.5794217150813\n",
      "\n",
      "Mean\n",
      "MSE = 1961.5678757223516\n",
      "RMSE = 44.289591053907365\n",
      "\n",
      "R2 = 0.27994321524487786\n"
     ]
    }
   ],
   "source": [
    "target_0 = data_0['product']\n",
    "features_0 = data_0.drop(['product', 'id'], axis=1)\n",
    "\n",
    "# выборки в соотношении 75:25\n",
    "features_train_0, features_valid_0, target_train_0, target_valid_0 = train_test_split(\n",
    "    features_0, target_0, test_size=0.25, random_state=12345)\n",
    "\n",
    "# Обучение модели и предсказания на валидационной выборке.\n",
    "model_0 = LinearRegression()\n",
    "model_0.fit(features_train_0, target_train_0)\n",
    "predicted_valid_0 = model_0.predict(features_valid_0)\n",
    "mse_0 = mean_squared_error(target_valid_0, predicted_valid_0) # MSE\n",
    "\n",
    "print(\"MSE =\", mse_0)\n",
    "print(\"RMSE =\", mse_0 ** 0.5)\n",
    "\n",
    "predicted_valid_mean_0 = pd.Series(target_train_0.mean(), index=target_valid_0.index) # константная модель: каждому объекту она прогнозирует ' среднее значение целевого признака '\n",
    "mse_mean_0 = mean_squared_error(target_valid_0, predicted_valid_mean_0)\n",
    "\n",
    "print(\"\\nMean\")\n",
    "print(\"MSE =\", mse_mean_0)\n",
    "print(\"RMSE =\", mse_mean_0 ** 0.5)\n",
    "\n",
    "print(\"\\nR2 =\", r2_score(target_valid_0, predicted_valid_0))"
   ]
  },
  {
   "cell_type": "code",
   "execution_count": 4,
   "metadata": {},
   "outputs": [
    {
     "name": "stdout",
     "output_type": "stream",
     "text": [
      "MSE = 0.7976263360391139\n",
      "RMSE = 0.893099286775616\n",
      "\n",
      "Mean\n",
      "MSE = 2117.9734309299147\n",
      "RMSE = 46.02144533725462\n",
      "\n",
      "R2 = 0.9996233978805127\n"
     ]
    }
   ],
   "source": [
    "target_1 = data_1['product']\n",
    "features_1 = data_1.drop(['product', 'id'], axis=1)\n",
    "\n",
    "# выборки в соотношении 75:25\n",
    "features_train_1, features_valid_1, target_train_1, target_valid_1 = train_test_split(\n",
    "    features_1, target_1, test_size=0.25, random_state=12345)\n",
    "\n",
    "# Обучение модели и предсказания на валидационной выборке.\n",
    "model_1 = LinearRegression()\n",
    "model_1.fit(features_train_1, target_train_1)\n",
    "predicted_valid_1 = model_1.predict(features_valid_1)\n",
    "mse_1 = mean_squared_error(target_valid_1, predicted_valid_1) # MSE\n",
    "\n",
    "print(\"MSE =\", mse_1)\n",
    "print(\"RMSE =\", mse_1 ** 0.5)\n",
    "\n",
    "predicted_valid_mean_1 = pd.Series(target_train_1.mean(), index=target_valid_1.index) # константная модель: каждому объекту она прогнозирует ' среднее значение целевого признака '\n",
    "mse_mean_1 = mean_squared_error(target_valid_1, predicted_valid_mean_1)\n",
    "\n",
    "print(\"\\nMean\")\n",
    "print(\"MSE =\", mse_mean_1)\n",
    "print(\"RMSE =\", mse_mean_1 ** 0.5)\n",
    "\n",
    "print(\"\\nR2 =\", r2_score(target_valid_1, predicted_valid_1))"
   ]
  },
  {
   "cell_type": "code",
   "execution_count": 5,
   "metadata": {},
   "outputs": [
    {
     "name": "stdout",
     "output_type": "stream",
     "text": [
      "MSE = 1602.3775813236196\n",
      "RMSE = 40.02970873393434\n",
      "\n",
      "Mean\n",
      "MSE = 2016.2210072435087\n",
      "RMSE = 44.90234968510566\n",
      "\n",
      "R2 = 0.20524758386040443\n"
     ]
    }
   ],
   "source": [
    "target_2 = data_2['product']\n",
    "features_2 = data_2.drop(['product', 'id'], axis=1)\n",
    "\n",
    "# выборки в соотношении 75:25\n",
    "features_train_2, features_valid_2, target_train_2, target_valid_2 = train_test_split(\n",
    "    features_2, target_2, test_size=0.25, random_state=12345)\n",
    "\n",
    "# Обучение модели и предсказания на валидационной выборке.\n",
    "model_2 = LinearRegression()\n",
    "model_2.fit(features_train_2, target_train_2)\n",
    "predicted_valid_2 = model_2.predict(features_valid_2)\n",
    "mse_2 = mean_squared_error(target_valid_2, predicted_valid_2) # MSE\n",
    "\n",
    "print(\"MSE =\", mse_2)\n",
    "print(\"RMSE =\", mse_2 ** 0.5)\n",
    "\n",
    "predicted_valid_mean_2 = pd.Series(target_train_2.mean(), index=target_valid_2.index) # константная модель: каждому объекту она прогнозирует ' среднее значение целевого признака '\n",
    "mse_mean_2 = mean_squared_error(target_valid_2, predicted_valid_mean_2)\n",
    "\n",
    "print(\"\\nMean\")\n",
    "print(\"MSE =\", mse_mean_2)\n",
    "print(\"RMSE =\", mse_mean_2 ** 0.5)\n",
    "\n",
    "print(\"\\nR2 =\", r2_score(target_valid_2, predicted_valid_2))"
   ]
  },
  {
   "cell_type": "markdown",
   "metadata": {},
   "source": [
    "***Можно сделать вывод что запасы в первом и третям регионах довольно большие, а вот в втором довольно скудные***"
   ]
  },
  {
   "cell_type": "code",
   "execution_count": 6,
   "metadata": {},
   "outputs": [
    {
     "data": {
      "text/plain": [
       "111.11111111111111"
      ]
     },
     "execution_count": 6,
     "metadata": {},
     "output_type": "execute_result"
    }
   ],
   "source": [
    "budget = 10000000000 # бюджет\n",
    "bar_price = 450000 # стоимость барреля\n",
    "good_holes = 200 # количество скважин для этого бюджета\n",
    "holes = 500 # количество скважин\n",
    "\n",
    "#достаточный объём сырья для безубыточной разработки новой скважины\n",
    "good_hole_price = (budget / good_holes) / bar_price \n",
    "good_hole_price "
   ]
  },
  {
   "cell_type": "markdown",
   "metadata": {},
   "source": [
    "- budget - бюджет\n",
    "- bar_price - стоимость барреля\n",
    "- good_holes - количество скважин для этого бюджета\n",
    "- holes - количество скважин\n",
    "- good_hole_price - достаточный объём сырья для безубыточной разработки новой скважины"
   ]
  },
  {
   "cell_type": "code",
   "execution_count": 7,
   "metadata": {},
   "outputs": [
    {
     "name": "stdout",
     "output_type": "stream",
     "text": [
      "среднее в 1 регионе 92.50000000000001\n",
      "среднее в 2 регионе 68.82500000000002\n",
      "среднее в 3 регионе 95.00000000000004\n"
     ]
    }
   ],
   "source": [
    "print('среднее в 1 регионе', data_0['product'].mean())\n",
    "print('среднее в 2 регионе', data_1['product'].mean())\n",
    "print('среднее в 3 регионе', data_2['product'].mean())"
   ]
  },
  {
   "cell_type": "markdown",
   "metadata": {},
   "source": [
    "***Здесь видно, что первый и третий регион идентичны и в разы превышают минимум,\n",
    "а вот в втором регионе запасов не хватит чтобы окупить будущие шахты***\n"
   ]
  },
  {
   "cell_type": "markdown",
   "metadata": {},
   "source": [
    "# 3. Подготовка к расчёту прибыли"
   ]
  },
  {
   "cell_type": "code",
   "execution_count": 8,
   "metadata": {},
   "outputs": [
    {
     "name": "stdout",
     "output_type": "stream",
     "text": [
      "196771396.9994259\n"
     ]
    }
   ],
   "source": [
    "def revenue(target, probabilities, count):\n",
    "    probs_sorted = probabilities.sort_values(ascending=False)\n",
    "    selected = target[probs_sorted.index][:count]\n",
    "    return bar_price * selected.sum()\n",
    "\n",
    "target = target_valid_0[:500].reset_index(drop=True) \n",
    "probabilities = pd.Series(predicted_valid_0)[:500] \n",
    "\n",
    "res = revenue(target, probabilities, 200)\n",
    "\n",
    "print(res - budget)"
   ]
  },
  {
   "cell_type": "markdown",
   "metadata": {},
   "source": [
    "***Можно сделать вывод что второй регион убыточен и начинать разработку там нельзя. Прибыль составит 196.771.397руб***"
   ]
  },
  {
   "cell_type": "markdown",
   "metadata": {},
   "source": [
    "# 4. Расчёт прибыли и рисков "
   ]
  },
  {
   "cell_type": "code",
   "execution_count": 17,
   "metadata": {},
   "outputs": [
    {
     "name": "stdout",
     "output_type": "stream",
     "text": [
      "Средняя выручка: 425938526.91059303\n",
      "5%-квантиль: -31803114.34611702\n",
      "85%-квантиль: 801501278.2033157\n",
      "вероятность убытков: 0.06\n"
     ]
    }
   ],
   "source": [
    "target = target_valid_0.reset_index(drop=True) \n",
    "probabilities = pd.Series(predicted_valid_0)\n",
    "\n",
    "state = np.random.RandomState(12345)\n",
    " \n",
    "values_0 = []\n",
    "b = 0\n",
    "for i in range(1000): \n",
    "    target_subsample = target.sample(n=500, replace=True, random_state=state) \n",
    "    probs_subsample = probabilities[target_subsample.index]\n",
    " \n",
    "    values_0.append(revenue(target_subsample, probs_subsample, 200))\n",
    "    if revenue(target_subsample, probs_subsample, 200) - budget  < 0:\n",
    "        b += 1\n",
    "        \n",
    "values_0 = pd.Series(values_0)\n",
    "lower = values_0.quantile(0.05)\n",
    "upper = values_0.quantile(0.90)\n",
    " \n",
    "mean = values_0.mean()\n",
    "print(\"Средняя выручка:\", mean - budget)\n",
    "print(\"5%-квантиль:\", lower - budget)\n",
    "print(\"85%-квантиль:\", upper - budget)\n",
    "print('вероятность убытков:', b/1000)"
   ]
  },
  {
   "cell_type": "markdown",
   "metadata": {},
   "source": [
    "Для разработки годиться только второй регион\n"
   ]
  },
  {
   "cell_type": "code",
   "execution_count": 18,
   "metadata": {},
   "outputs": [
    {
     "name": "stdout",
     "output_type": "stream",
     "text": [
      "Средняя выручка: 515222773.4432907\n",
      "5%-квантиль: 150785740.64118004\n",
      "85%-квантиль: 798830252.2696915\n",
      "вероятность убытков: 0.01\n"
     ]
    }
   ],
   "source": [
    "target = target_valid_1.reset_index(drop=True) \n",
    "probabilities = pd.Series(predicted_valid_1)\n",
    "\n",
    "state = np.random.RandomState(12345)\n",
    "g = 0\n",
    "b = 0\n",
    "values_1 = []\n",
    "for i in range(1000): \n",
    "    target_subsample = target.sample(n = 500, replace=True, random_state=state) \n",
    "    probs_subsample = probabilities[target_subsample.index]\n",
    " \n",
    "    values_1.append(revenue(target_subsample, probs_subsample, 200)) \n",
    "    if revenue(target_subsample, probs_subsample, 200) - budget  < 0:\n",
    "        b += 1\n",
    "values_1 = pd.Series(values_1)\n",
    "lower = values_1.quantile(0.05)\n",
    "upper = values_1.quantile(0.90)\n",
    " \n",
    "mean = values_1.mean()\n",
    "print(\"Средняя выручка:\", mean - budget)\n",
    "print(\"5%-квантиль:\", lower - budget)\n",
    "print(\"85%-квантиль:\", upper - budget)\n",
    "print('вероятность убытков:', b/1000)"
   ]
  },
  {
   "cell_type": "code",
   "execution_count": 19,
   "metadata": {},
   "outputs": [
    {
     "name": "stdout",
     "output_type": "stream",
     "text": [
      "Средняя выручка: 435008362.7827568\n",
      "5%-квантиль: -43448491.32250404\n",
      "85%-квантиль: 784904953.9330597\n",
      "вероятность убытков: 0.064\n"
     ]
    }
   ],
   "source": [
    "target = target_valid_2.reset_index(drop=True) \n",
    "probabilities = pd.Series(predicted_valid_2)\n",
    "\n",
    "state = np.random.RandomState(12345)\n",
    "g = 0\n",
    "b = 0\n",
    "values_2 = []\n",
    "for i in range(1000): \n",
    "    target_subsample = target.sample(n = 500, replace=True, random_state=state) \n",
    "    probs_subsample = probabilities[target_subsample.index]\n",
    " \n",
    "    values_2.append(revenue(target_subsample, probs_subsample, 200)) \n",
    "    if revenue(target_subsample, probs_subsample, 200) - budget  < 0:\n",
    "        b += 1\n",
    "        \n",
    "values_2 = pd.Series(values_2)\n",
    "lower = values_2.quantile(0.05)\n",
    "upper = values_2.quantile(0.90)\n",
    " \n",
    "mean = values_2.mean()\n",
    "print(\"Средняя выручка:\", mean - budget)\n",
    "print(\"5%-квантиль:\", lower - budget)\n",
    "print(\"85%-квантиль:\", upper - budget)\n",
    "print('вероятность убытков:', b/1000)"
   ]
  },
  {
   "cell_type": "markdown",
   "metadata": {},
   "source": [
    "### Вывод:\n",
    "Могу сказать точно, что лучший регион для разработки это второй, а худший это третий. Так же в втором регионе я бы не начинал разработку так-как вероятность убытков более 2.5% ."
   ]
  },
  {
   "cell_type": "code",
   "execution_count": null,
   "metadata": {},
   "outputs": [],
   "source": []
  }
 ],
 "metadata": {
  "kernelspec": {
   "display_name": "Python 3",
   "language": "python",
   "name": "python3"
  },
  "language_info": {
   "codemirror_mode": {
    "name": "ipython",
    "version": 3
   },
   "file_extension": ".py",
   "mimetype": "text/x-python",
   "name": "python",
   "nbconvert_exporter": "python",
   "pygments_lexer": "ipython3",
   "version": "3.7.8"
  },
  "toc": {
   "base_numbering": 1,
   "nav_menu": {},
   "number_sections": true,
   "sideBar": true,
   "skip_h1_title": true,
   "title_cell": "Table of Contents",
   "title_sidebar": "Contents",
   "toc_cell": false,
   "toc_position": {},
   "toc_section_display": true,
   "toc_window_display": false
  }
 },
 "nbformat": 4,
 "nbformat_minor": 2
}
